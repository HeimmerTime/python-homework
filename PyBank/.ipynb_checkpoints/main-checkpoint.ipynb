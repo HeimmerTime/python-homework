{
 "cells": [
  {
   "cell_type": "code",
   "execution_count": 132,
   "metadata": {},
   "outputs": [
    {
     "name": "stdout",
     "output_type": "stream",
     "text": [
      "86\n",
      "38382578\n",
      "-2315.12\n",
      "1926159\n",
      "-2196167\n",
      "Feb-2012\n",
      "Sep-2013\n"
     ]
    }
   ],
   "source": [
    "import pandas as pd\n",
    "from pathlib import Path\n",
    "import csv \n",
    "\n",
    "csvpath = Path(\"Resources/budget_data.csv\")\n",
    "\n",
    "budget_dataframe = pd.read_csv(csvpath)\n",
    "\n",
    "##The total number of months included in the dataset.\n",
    "total_months = budget_dataframe['Date'].count()\n",
    "print(total_months)\n",
    "\n",
    "##The net total amount of Profit/Losses over the entire period.\n",
    "total_profit_losses = budget_dataframe['Profit/Losses'].sum()\n",
    "print(total_profit_losses)\n",
    "\n",
    "##The average of the changes in Profit/Losses over the entire period.\n",
    "profitloss = 0\n",
    "line_num = 0\n",
    "profit = []\n",
    "profit_diff = []\n",
    "date = []\n",
    "\n",
    "with open(csvpath, 'r') as csvfile:\n",
    "    csvreader = csv.reader(csvfile, delimiter=\",\")\n",
    "    csv_header = next(csvreader)\n",
    "\n",
    "    for row in csvreader:\n",
    "        line_num += 1\n",
    "        profitloss += int(row[1])\n",
    "        profit.append(int(row[1]))\n",
    "        date.append(row[0])\n",
    "\n",
    "        \n",
    "    for i in range(1, len(profit)):\n",
    "            profit_diff.append(profit[i] - profit[i-1])\n",
    "            avg_profit_change = round(sum(profit_diff)/len(profit_diff),2)\n",
    "            max_profit_change = max(profit_diff)\n",
    "            min_profit_change = min(profit_diff)\n",
    "            max_profit_date_change = str(date[profit_diff.index(max(profit_diff))+1])\n",
    "            min_profit_date_change = str(date[profit_diff.index(min(profit_diff))+1])\n",
    "\n",
    "print(avg_profit_change)\n",
    "print(max_profit_change)\n",
    "print(min_profit_change) \n",
    "print(max_profit_date_change) \n",
    "print(min_profit_date_change) \n",
    "    \n",
    "##The greatest increase in profits (date and amount) over the entire period.\n",
    "\n",
    "\n",
    "\n",
    "##The greatest decrease in losses (date and amount) over the entire period.\n",
    "\n",
    "\n",
    "\n",
    "\n"
   ]
  },
  {
   "cell_type": "code",
   "execution_count": 133,
   "metadata": {},
   "outputs": [
    {
     "name": "stdout",
     "output_type": "stream",
     "text": [
      "Financial Analysis\n",
      "Total Months: 86\n",
      "Total $ 38382578\n",
      "average profit change is $ -2315.12\n",
      "Greatest increase in profit: Feb-2012 $1926159\n",
      "Greatest decrease in profit: Sep-2013 $-2196167\n"
     ]
    }
   ],
   "source": [
    "print(\"Financial Analysis\")\n",
    "\n",
    "print(f\"Total Months: {total_months}\")\n",
    "print(f\"Total $ {profitloss}\")\n",
    "print(f\"average profit change is $ {avg_profit_change}\")\n",
    "print(f\"Greatest increase in profit: {max_profit_date_change} ${max_profit_change}\")\n",
    "print(f\"Greatest decrease in profit: {min_profit_date_change} ${min_profit_change}\")"
   ]
  },
  {
   "cell_type": "code",
   "execution_count": 134,
   "metadata": {},
   "outputs": [],
   "source": [
    "# Open the output path as text file\n",
    "output_path = 'output.txt'\n",
    "with open(output_path, 'w') as file:\n",
    "    \n",
    "    file.write(\"Financial Analysis\\n\")\n",
    "    file.write(\"\\n\")\n",
    "    file.write(f\"Total Months: {total_months}\\n\")\n",
    "    file.write(f\"Total $ {profitloss}\\n\")\n",
    "    file.write(f\"average profit change is $ {avg_profit_change}\\n\")\n",
    "    file.write(f\"Greatest increase in profit: {max_profit_date_change} ${max_profit_change}\\n\")\n",
    "    file.write(f\"Greatest decrease in profit: {min_profit_date_change} ${min_profit_change}\")"
   ]
  },
  {
   "cell_type": "code",
   "execution_count": null,
   "metadata": {},
   "outputs": [],
   "source": []
  }
 ],
 "metadata": {
  "kernelspec": {
   "display_name": "Python 3",
   "language": "python",
   "name": "python3"
  },
  "language_info": {
   "codemirror_mode": {
    "name": "ipython",
    "version": 3
   },
   "file_extension": ".py",
   "mimetype": "text/x-python",
   "name": "python",
   "nbconvert_exporter": "python",
   "pygments_lexer": "ipython3",
   "version": "3.8.5"
  }
 },
 "nbformat": 4,
 "nbformat_minor": 4
}
